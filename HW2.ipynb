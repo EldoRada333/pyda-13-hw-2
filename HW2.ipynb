{
 "cells": [
  {
   "cell_type": "code",
   "execution_count": 27,
   "metadata": {},
   "outputs": [
    {
     "name": "stdout",
     "output_type": "stream",
     "text": [
      "Фраза 2 больше фразы 1\n",
      "Конец программы\n"
     ]
    }
   ],
   "source": [
    "phrase_1 = 'Хочу пирожок'\n",
    "phrase_2 = 'Лучше иди побегай'\n",
    "\n",
    "if len(phrase_1) > len(phrase_2):\n",
    "    print('Фраза 1 больше фразы 2')\n",
    "else:\n",
    "    print('Фраза 2 больше фразы 1')\n",
    "print('Конец программы')"
   ]
  },
  {
   "cell_type": "code",
   "execution_count": 13,
   "metadata": {},
   "outputs": [
    {
     "name": "stdout",
     "output_type": "stream",
     "text": [
      "Високосный\n"
     ]
    }
   ],
   "source": [
    "year = 2012\n",
    "\n",
    "if year %4 == 0 and year %100 != 0 or year %400 == 0:\n",
    "    print('Високосный')\n",
    "else:\n",
    "    print('Обычный')"
   ]
  },
  {
   "cell_type": "code",
   "execution_count": 16,
   "metadata": {},
   "outputs": [
    {
     "name": "stdout",
     "output_type": "stream",
     "text": [
      "Лев\n"
     ]
    }
   ],
   "source": [
    "date = 27\n",
    "month = 7\n",
    "\n",
    "if (date >= 21 and date <= 31 and month == 3) or (month == 4 and date >= 1 and date <= 20):\n",
    "    print('Овен')\n",
    "elif (date >= 21 and date <= 30 and month == 4) or (month == 5 and date >= 1 and date <= 20):\n",
    "    print('Телец')\n",
    "elif (date >= 21 and date <= 31 and month == 5) or (month == 6 and date >= 1 and date <= 21):\n",
    "    print('Близнецы')\n",
    "elif (date >= 22 and date <= 30 and month == 6) or (month == 7 and date >= 1 and date <= 22):\n",
    "    print('Рак')\n",
    "elif (date >= 23 and date <= 31 and month == 7) or (month == 8 and date >= 1 and date <= 23):\n",
    "    print('Лев')\n",
    "elif (date >= 24 and date <= 31 and month == 8) or (month == 9 and date >= 1 and date <= 23):\n",
    "    print('Дева')\n",
    "elif (date >= 24 and date <= 30 and month == 9) or (month == 10 and date >= 1 and date <= 23):\n",
    "    print('Весы')\n",
    "elif (date >= 24 and date <= 31 and month == 10) or (month == 11 and date >= 1 and date <= 22):\n",
    "    print('Скорпион')\n",
    "elif (date >= 23 and date <= 30 and month == 11) or (month == 12 and date >= 1 and date <= 21):\n",
    "    print('Стрелец')\n",
    "elif (date >= 22 and date <= 31 and month == 12) or (month == 1 and date >= 1 and date <= 20):\n",
    "    print('Козерог')\n",
    "elif (date >= 21 and date <= 31 and month == 1) or (month == 2 and date >= 1 and date <= 20):\n",
    "    print('Водолей')\n",
    "elif (date >= 21 and date <= 29 and month == 2) or (month == 3 and date >= 1 and date <= 20):\n",
    "    print('Рыбы')"
   ]
  },
  {
   "cell_type": "code",
   "execution_count": 19,
   "metadata": {},
   "outputs": [
    {
     "name": "stdout",
     "output_type": "stream",
     "text": [
      "Коробка №2\n"
     ]
    }
   ],
   "source": [
    "width = 35\n",
    "length = 11\n",
    "height = 24\n",
    "\n",
    "if width < 15 and length < 15 and height < 15:\n",
    "    print('Коробка №1')\n",
    "elif (width > 15 and width < 50) or (length > 15 and length < 50) or (height > 15 and height < 50):\n",
    "    print('Коробка №2')\n",
    "elif length > 200:\n",
    "    print('Упаковка для лыж')\n",
    "else:\n",
    "    print('Стандартная коробка №3')"
   ]
  },
  {
   "cell_type": "code",
   "execution_count": 26,
   "metadata": {},
   "outputs": [],
   "source": [
    "# Со счастливым билетом - решения сама не нашла. В Google посмотрела - поняла не до конца.\n",
    "# С площадями фигур - посмотрела решение в Google. Оно понятное, но некоторые функции\n",
    "# мы пока не проходили. Потому решила оставить только те задачи, которые решила сама."
   ]
  }
 ],
 "metadata": {
  "kernelspec": {
   "display_name": "Python 3",
   "language": "python",
   "name": "python3"
  },
  "language_info": {
   "codemirror_mode": {
    "name": "ipython",
    "version": 3
   },
   "file_extension": ".py",
   "mimetype": "text/x-python",
   "name": "python",
   "nbconvert_exporter": "python",
   "pygments_lexer": "ipython3",
   "version": "3.8.3"
  }
 },
 "nbformat": 4,
 "nbformat_minor": 4
}
